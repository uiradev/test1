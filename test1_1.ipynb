{
 "cells": [
  {
   "cell_type": "code",
   "execution_count": 11,
   "id": "cbc89272",
   "metadata": {},
   "outputs": [],
   "source": [
    "x = 5;\n",
    "y = 10;\n",
    "\n",
    "def eq (x, y):\n",
    "    z = x + y;\n",
    "    return z;"
   ]
  },
  {
   "cell_type": "code",
   "execution_count": 12,
   "id": "c3cbbefe",
   "metadata": {},
   "outputs": [],
   "source": [
    "z = eq(x,y);"
   ]
  },
  {
   "cell_type": "code",
   "execution_count": 13,
   "id": "c197b973",
   "metadata": {},
   "outputs": [
    {
     "name": "stdout",
     "output_type": "stream",
     "text": [
      "Addition Test Passed\n"
     ]
    }
   ],
   "source": [
    "if z == 15:\n",
    "    print(\"Addition Test Passed\")\n",
    "    \n",
    "elif z != 15:\n",
    "    print(\"Addition Test Failed\")"
   ]
  },
  {
   "cell_type": "code",
   "execution_count": null,
   "id": "9d54dc54",
   "metadata": {},
   "outputs": [],
   "source": []
  }
 ],
 "metadata": {
  "kernelspec": {
   "display_name": "Python 3",
   "language": "python",
   "name": "python3"
  },
  "language_info": {
   "codemirror_mode": {
    "name": "ipython",
    "version": 3
   },
   "file_extension": ".py",
   "mimetype": "text/x-python",
   "name": "python",
   "nbconvert_exporter": "python",
   "pygments_lexer": "ipython3",
   "version": "3.8.8"
  }
 },
 "nbformat": 4,
 "nbformat_minor": 5
}
